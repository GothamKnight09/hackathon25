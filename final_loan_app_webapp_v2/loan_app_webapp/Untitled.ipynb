{
 "cells": [
  {
   "cell_type": "code",
   "execution_count": 6,
   "id": "425a5950-914e-449d-9da8-6ea9855f2044",
   "metadata": {},
   "outputs": [
    {
     "name": "stdout",
     "output_type": "stream",
     "text": [
      "[[ 1.22480007 -0.81978395 -1.0260291   0.64941412 -0.83063019  1.39328558]\n",
      " [ 0.81817222 -0.81978395 -1.65100114  0.63693906  0.40066271 -0.925958  ]\n",
      " [-0.84645171 -1.08208683  0.54890045 -1.13451924  0.64692129  0.23366379]\n",
      " ...\n",
      " [ 0.35111188 -1.6941269   0.04892281  0.67436424  1.63195561  1.39328558]\n",
      " [-0.5104199   1.7158106  -0.55105035 -0.60432926  1.63195561  0.81347468]\n",
      " [ 0.65948453 -1.08208683  1.72384789 -0.51700385 -0.33811303  0.23366379]]\n",
      "['annual_income', 'employment_length_years', 'debt_to_income_ratio', 'credit_score', 'num_accounts', 'num_inquiries_6m', 'bankruptcy_flag', 'foreclosure_flag', 'employment_status', 'gender', 'housing_status', 'linkedin_activity_level', 'twitter_activity_level', 'facebook_posts_last_6m', 'youtube_avg_views', 'youtube_monetized']\n",
      "[LightGBM] [Info] Number of positive: 600, number of negative: 400\n",
      "[LightGBM] [Info] Auto-choosing row-wise multi-threading, the overhead of testing was 0.000137 seconds.\n",
      "You can set `force_row_wise=true` to remove the overhead.\n",
      "And if memory is not enough, you can set `force_col_wise=true`.\n",
      "[LightGBM] [Info] Total Bins 985\n",
      "[LightGBM] [Info] Number of data points in the train set: 1000, number of used features: 16\n",
      "[LightGBM] [Info] [binary:BoostFromScore]: pavg=0.600000 -> initscore=0.405465\n",
      "[LightGBM] [Info] Start training from score 0.405465\n",
      "[LightGBM] [Info] Auto-choosing row-wise multi-threading, the overhead of testing was 0.000100 seconds.\n",
      "You can set `force_row_wise=true` to remove the overhead.\n",
      "And if memory is not enough, you can set `force_col_wise=true`.\n",
      "[LightGBM] [Info] Total Bins 985\n",
      "[LightGBM] [Info] Number of data points in the train set: 1000, number of used features: 16\n",
      "[LightGBM] [Info] Start training from score 40701.300190\n",
      "[LightGBM] [Info] Auto-choosing col-wise multi-threading, the overhead of testing was 0.000226 seconds.\n",
      "You can set `force_col_wise=true` to remove the overhead.\n",
      "[LightGBM] [Info] Total Bins 985\n",
      "[LightGBM] [Info] Number of data points in the train set: 1000, number of used features: 16\n",
      "[LightGBM] [Info] Start training from score 6.522510\n",
      "\n",
      "All models trained and saved in 'models/' folder.\n"
     ]
    }
   ],
   "source": [
    "!python train_models_v3.py"
   ]
  },
  {
   "cell_type": "code",
   "execution_count": null,
   "id": "81afd2aa-6d11-4025-85ca-7a892ec05700",
   "metadata": {},
   "outputs": [],
   "source": [
    "!python app_v2.py"
   ]
  }
 ],
 "metadata": {
  "kernelspec": {
   "display_name": "Python 3 (ipykernel)",
   "language": "python",
   "name": "python3"
  },
  "language_info": {
   "codemirror_mode": {
    "name": "ipython",
    "version": 3
   },
   "file_extension": ".py",
   "mimetype": "text/x-python",
   "name": "python",
   "nbconvert_exporter": "python",
   "pygments_lexer": "ipython3",
   "version": "3.12.10"
  }
 },
 "nbformat": 4,
 "nbformat_minor": 5
}
